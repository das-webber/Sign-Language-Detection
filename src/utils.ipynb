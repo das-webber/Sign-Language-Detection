{
 "cells": [
  {
   "cell_type": "code",
   "execution_count": 1,
   "id": "2e6666f6",
   "metadata": {},
   "outputs": [],
   "source": [
    "from datetime import datetime, time\n",
    "import pytz\n",
    "\n",
    "def is_within_hours(start='18:00', end='22:00', tz='local'):\n",
    "    now = datetime.now()\n",
    "    # If you want timezone-aware use pytz and pass tz name\n",
    "    fmt = '%H:%M'\n",
    "    s = datetime.strptime(start, fmt).time()\n",
    "    e = datetime.strptime(end, fmt).time()\n",
    "    if s <= e:\n",
    "        return s <= now.time() <= e\n",
    "    else: # crosses midnight\n",
    "        return now.time() >= s or now.time() <= e"
   ]
  },
  {
   "cell_type": "code",
   "execution_count": null,
   "id": "6974f835",
   "metadata": {},
   "outputs": [],
   "source": []
  }
 ],
 "metadata": {
  "kernelspec": {
   "display_name": "Python 3",
   "language": "python",
   "name": "python3"
  },
  "language_info": {
   "codemirror_mode": {
    "name": "ipython",
    "version": 3
   },
   "file_extension": ".py",
   "mimetype": "text/x-python",
   "name": "python",
   "nbconvert_exporter": "python",
   "pygments_lexer": "ipython3",
   "version": "3.10.11"
  }
 },
 "nbformat": 4,
 "nbformat_minor": 5
}
