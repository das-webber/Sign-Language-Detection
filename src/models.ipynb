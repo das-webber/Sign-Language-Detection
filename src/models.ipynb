{
 "cells": [
  {
   "cell_type": "code",
   "execution_count": 1,
   "id": "a17f34c3",
   "metadata": {},
   "outputs": [],
   "source": [
    "import tensorflow as tf\n",
    "from tensorflow.keras import layers, models\n",
    "\n",
    "def build_cnn(num_classes, input_shape=(224,224,3)):\n",
    "    base = tf.keras.applications.MobileNetV2(include_top=False, input_shape=input_shape, pooling='avg')\n",
    "    x = base.output\n",
    "    x = layers.Dropout(0.3)(x)\n",
    "    outputs = layers.Dense(num_classes, activation='softmax')(x)\n",
    "    model = models.Model(inputs=base.input, outputs=outputs)\n",
    "    return model\n",
    "\n",
    "def build_cnn_lstm(num_classes, frame_shape=(224,224,3), timesteps=16):\n",
    "    cnn = build_cnn(num_classes=None, input_shape=frame_shape)\n",
    "    cnn.trainable = False\n",
    "    inp = layers.Input(shape=(timesteps,)+frame_shape)\n",
    "    x = layers.TimeDistributed(cnn)(inp)\n",
    "    x = layers.LSTM(128)(x)\n",
    "    x = layers.Dropout(0.3)(x)\n",
    "    out = layers.Dense(num_classes, activation='softmax')(x)\n",
    "    model = models.Model(inputs=inp, outputs=out)\n",
    "    return model"
   ]
  },
  {
   "cell_type": "code",
   "execution_count": null,
   "id": "ba7e3def",
   "metadata": {},
   "outputs": [],
   "source": []
  }
 ],
 "metadata": {
  "kernelspec": {
   "display_name": "Python 3",
   "language": "python",
   "name": "python3"
  },
  "language_info": {
   "codemirror_mode": {
    "name": "ipython",
    "version": 3
   },
   "file_extension": ".py",
   "mimetype": "text/x-python",
   "name": "python",
   "nbconvert_exporter": "python",
   "pygments_lexer": "ipython3",
   "version": "3.10.11"
  }
 },
 "nbformat": 4,
 "nbformat_minor": 5
}
