{
 "cells": [
  {
   "cell_type": "code",
   "execution_count": 1,
   "id": "09059323",
   "metadata": {},
   "outputs": [],
   "source": [
    "import os\n",
    "import cv2\n",
    "import numpy as np\n",
    "from tensorflow.keras.utils import to_categorical\n",
    "\n",
    "# For images\n",
    "def load_image_dataset(folder, labels_map, target_size=(224,224)):\n",
    "    X, y = [], []\n",
    "    for label_name, label_idx in labels_map.items():\n",
    "        path = os.path.join(folder, label_name)\n",
    "        if not os.path.exists(path):\n",
    "            continue\n",
    "        for fname in os.listdir(path):\n",
    "            img = cv2.imread(os.path.join(path, fname))\n",
    "            if img is None: continue\n",
    "            img = cv2.cvtColor(img, cv2.COLOR_BGR2RGB)\n",
    "            img = cv2.resize(img, target_size)\n",
    "            X.append(img / 255.0)\n",
    "            y.append(label_idx)\n",
    "    X = np.array(X)\n",
    "    y = to_categorical(y, num_classes=len(labels_map))\n",
    "    return X, y\n",
    "\n",
    "# For short videos -> frames\n",
    "def extract_frames_from_video(video_path, timesteps=16, target_size=(224,224)):\n",
    "    cap = cv2.VideoCapture(video_path)\n",
    "    frames = []\n",
    "    while len(frames) < timesteps:\n",
    "        ret, frame = cap.read()\n",
    "        if not ret: break\n",
    "        frame = cv2.cvtColor(frame, cv2.COLOR_BGR2RGB)\n",
    "        frame = cv2.resize(frame, target_size)\n",
    "        frames.append(frame/255.0)\n",
    "    cap.release()\n",
    "    # pad or trim\n",
    "    if len(frames) < timesteps:\n",
    "        while len(frames) < timesteps:\n",
    "            frames.append(frames[-1])\n",
    "    return np.array(frames[:timesteps])\n"
   ]
  },
  {
   "cell_type": "code",
   "execution_count": null,
   "id": "e1bdb98d",
   "metadata": {},
   "outputs": [],
   "source": []
  }
 ],
 "metadata": {
  "kernelspec": {
   "display_name": "Python 3",
   "language": "python",
   "name": "python3"
  },
  "language_info": {
   "codemirror_mode": {
    "name": "ipython",
    "version": 3
   },
   "file_extension": ".py",
   "mimetype": "text/x-python",
   "name": "python",
   "nbconvert_exporter": "python",
   "pygments_lexer": "ipython3",
   "version": "3.10.11"
  }
 },
 "nbformat": 4,
 "nbformat_minor": 5
}
